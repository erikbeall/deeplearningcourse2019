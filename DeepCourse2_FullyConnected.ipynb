{
 "cells": [
  {
   "cell_type": "code",
   "execution_count": 17,
   "metadata": {},
   "outputs": [],
   "source": [
    "import numpy as np\n",
    "from PIL import Image\n",
    "import matplotlib\n",
    "%matplotlib inline"
   ]
  },
  {
   "cell_type": "markdown",
   "metadata": {},
   "source": [
    "# Part 2: A Simple Fully Connected Network\n",
    "\n",
    "The goal of this notebook is to introduce the fully connected neuron, activation and building a network with initialized parameters. First, we load an MNIST example for the digit \"5\" and set up some weights for a very simple one-layer neural network."
   ]
  },
  {
   "cell_type": "code",
   "execution_count": 19,
   "metadata": {},
   "outputs": [
    {
     "data": {
      "image/png": "[encoded data removed]",
      "text/plain": [
       "<Figure size 432x288 with 1 Axes>"
      ]
     },
     "metadata": {
      "needs_background": "light"
     },
     "output_type": "display_data"
    },
    {
     "name": "stdout",
     "output_type": "stream",
     "text": [
      "(10, 1)\n",
      "Neural network output: \n",
      " [[  4.87417189]\n",
      " [  8.93202046]\n",
      " [  0.02793288]\n",
      " [ 24.07781799]\n",
      " [ -0.8016074 ]\n",
      " [ -4.42153312]\n",
      " [  8.6226887 ]\n",
      " [  0.21884018]\n",
      " [  9.9636516 ]\n",
      " [-15.61643317]]\n"
     ]
    }
   ],
   "source": [
    "imgfile='number5.jpg'\n",
    "img_pil = Image.open(imgfile)\n",
    "data = np.asarray(img_pil).astype(np.float32).reshape((784,1))\n",
    "# scale from 0-1\n",
    "data=data/255.0\n",
    "plt.imshow(img_pil)\n",
    "plt.show()\n",
    "# random data/label matrices can also be very useful, but here we'll use the digit\n",
    "#data = np.random.random((784,1))\n",
    "weights = np.random.randn(10, 784)\n",
    "biases = np.random.randn(10, 1)\n",
    "output = np.dot(weights,data) + biases\n",
    "print(output.shape)\n",
    "assert output.shape == (10,1), 'Shape is not what we expected'\n",
    "print('Neural network output: \\n',output)"
   ]
  },
  {
   "cell_type": "markdown",
   "metadata": {},
   "source": [
    "Lets define some common activation functions and run them on our output data."
   ]
  },
  {
   "cell_type": "code",
   "execution_count": 10,
   "metadata": {},
   "outputs": [
    {
     "name": "stdout",
     "output_type": "stream",
     "text": [
      "Activated (softmax) output:\n",
      " [[1.99392588e-01]\n",
      " [6.06405806e-09]\n",
      " [2.68896161e-02]\n",
      " [2.12080792e-06]\n",
      " [2.74184100e-10]\n",
      " [3.56942281e-05]\n",
      " [4.90209255e-04]\n",
      " [1.61770278e-06]\n",
      " [2.57050114e-10]\n",
      " [7.73188147e-01]]\n",
      "Sum of activated softmaxed output:  [1.]\n"
     ]
    }
   ],
   "source": [
    "sigmoid = lambda x: 1/(1+np.exp(-x))\n",
    "relu = lambda x: np.maximum(x, 0.0)\n",
    "softmax = lambda x: np.exp(x)/np.nansum(np.exp(x), axis=0)\n",
    "activations_relu = relu(output)\n",
    "activations_sigmoid = sigmoid(output)\n",
    "activations_softmax = softmax(output)\n",
    "print('Activated (softmax) output:\\n',activations_softmax)\n",
    "print('Sum of activated softmaxed output: ', sum(activations_softmax))"
   ]
  },
  {
   "cell_type": "markdown",
   "metadata": {},
   "source": [
    "A simple neural network for digit classification. Random parameters, distributed normally and scaled according to research on ideal scaling for initialization.\n",
    "\n",
    "In this case, we will use a two layer fc, first layer is 784 inputs and 512 outputs, second layer is 512 inputs, 10 outputs. Takes in a 784x1 image (28x28 reshaped) and outputs 10 values."
   ]
  },
  {
   "cell_type": "code",
   "execution_count": 11,
   "metadata": {},
   "outputs": [
    {
     "name": "stdout",
     "output_type": "stream",
     "text": [
      "Weights shapes:  [(512, 784), (10, 512)]\n",
      "Biases shapes:   [(512, 1), (10, 1)]\n"
     ]
    }
   ],
   "source": [
    "w_scale=0.01\n",
    "b_scale = 0.0\n",
    "sizes=[784, 512, 10]\n",
    "biases = [0.01*(2*np.random.randn(y, 1)-1) for y in sizes[1:]]\n",
    "weights = [0.00001*(2*np.random.randn(y, x)-1) for x, y in zip(sizes[:-1], sizes[1:])]\n",
    "print('Weights shapes: ',[w.shape for w in weights])\n",
    "print('Biases shapes:  ',[b.shape for b in biases])\n",
    "def forward(data, weights, biases, activation=sigmoid):\n",
    "    activations=[data]\n",
    "    for i in range(len(weights)):\n",
    "        feat = np.dot(weights[i], activations[-1]) + biases[i]\n",
    "        # only apply relu activation on penultimate layers\n",
    "        act = activation(feat) if i < (len(weights)-1) or activation==sigmoid else feat\n",
    "        activations.append(act)\n",
    "    return activations[-1]"
   ]
  },
  {
   "cell_type": "markdown",
   "metadata": {},
   "source": [
    "Lets run the network on the image data for two different activation functions."
   ]
  },
  {
   "cell_type": "code",
   "execution_count": 12,
   "metadata": {},
   "outputs": [
    {
     "name": "stdout",
     "output_type": "stream",
     "text": [
      "Output (relu):  [[-0.00774397]\n",
      " [-0.02051468]\n",
      " [-0.01090689]\n",
      " [-0.01056058]\n",
      " [-0.02150136]\n",
      " [-0.00701392]\n",
      " [-0.04108243]\n",
      " [-0.01420905]\n",
      " [-0.01216662]\n",
      " [ 0.01515831]]\n",
      "Output (sigmoid):  [[0.49740954]\n",
      " [0.49424145]\n",
      " [0.49661257]\n",
      " [0.49680188]\n",
      " [0.49398776]\n",
      " [0.49755367]\n",
      " [0.48907388]\n",
      " [0.49577982]\n",
      " [0.4963267 ]\n",
      " [0.50312694]]\n"
     ]
    }
   ],
   "source": [
    "act_fn=relu\n",
    "print('Output (relu):\\n', forward(data, weights, biases, act_fn))\n",
    "act_fn=sigmoid\n",
    "print('Output (sigmoid):\\n', forward(data, weights, biases, act_fn))"
   ]
  },
  {
   "cell_type": "markdown",
   "metadata": {},
   "source": [
    "Brief aside on regression vs classification. Two of the most popular loss/feedback methods are regression and classification. \n",
    "Regression typically involves metric distance between label and output and results in a scaled floating point value(s).\n",
    "Classification involves finding the maximum (or minimum) output of a network and how much larger it is relative to other outputs.\n",
    "\n",
    "In this case, we wish to classify digits (could also be done with regression, but with some tradeoffs), so we'll use a softmax and select the maximum below."
   ]
  },
  {
   "cell_type": "code",
   "execution_count": 13,
   "metadata": {},
   "outputs": [
    {
     "name": "stdout",
     "output_type": "stream",
     "text": [
      "Softmaxed output:  [[0.10013134]\n",
      " [0.09981462]\n",
      " [0.10005157]\n",
      " [0.10007051]\n",
      " [0.0997893 ]\n",
      " [0.10014577]\n",
      " [0.09930015]\n",
      " [0.09996829]\n",
      " [0.10002297]\n",
      " [0.10070547]]\n",
      "Maximum index:  9\n",
      "\"Probability\":  0.10070547215285618\n"
     ]
    }
   ],
   "source": [
    "softmax = lambda x: np.exp(x)/np.nansum(np.exp(x), axis=0)\n",
    "print('Softmaxed output: ', softmax(forward(data, weights, biases, act_fn)))\n",
    "maxind = np.argmax(softmax(forward(data, weights, biases, act_fn)), axis=0)[0]\n",
    "print('Maximum index: ', maxind)\n",
    "print('\"Probability\": ', softmax(forward(data, weights, biases, act_fn))[maxind][0])"
   ]
  },
  {
   "cell_type": "markdown",
   "metadata": {},
   "source": [
    "Finally, lets load some weights we got from somewhere."
   ]
  },
  {
   "cell_type": "code",
   "execution_count": 16,
   "metadata": {},
   "outputs": [
    {
     "name": "stdout",
     "output_type": "stream",
     "text": [
      "Output (trained):\n",
      " [[ 0.05441621]\n",
      " [-0.03527451]\n",
      " [-0.00332656]\n",
      " [ 0.37345294]\n",
      " [-0.09257449]\n",
      " [ 0.44667264]\n",
      " [ 0.0884899 ]\n",
      " [ 0.10668931]\n",
      " [ 0.00630097]\n",
      " [-0.01047153]]\n",
      "Softmaxed ()trained) output:\n",
      " [[0.09473242]\n",
      " [0.08660569]\n",
      " [0.08941724]\n",
      " [0.13033303]\n",
      " [0.08178269]\n",
      " [0.14023403]\n",
      " [0.09801592]\n",
      " [0.09981609]\n",
      " [0.09028226]\n",
      " [0.08878063]]\n",
      "\n",
      "Maximum (trained) index:  5\n",
      "\"Probability\":  0.1402340321583118\n"
     ]
    }
   ],
   "source": [
    "import dill\n",
    "with open('nnet_params.dill','rb') as fp:\n",
    "    params = dill.load(fp)\n",
    "weights = [params[0][0], params[1][0]]\n",
    "biases = [params[0][1], params[1][1]]\n",
    "act_fn=relu\n",
    "print('Output (trained):\\n', forward(data, weights, biases, act_fn))\n",
    "print('Softmaxed ()trained) output:\\n', softmax(forward(data, weights, biases, act_fn)))\n",
    "maxind = np.argmax(softmax(forward(data, weights, biases, act_fn)), axis=0)[0]\n",
    "print('\\nMaximum (trained) index: ', maxind)\n",
    "print('\"Probability\": ', softmax(forward(data, weights, biases, act_fn))[maxind][0])"
   ]
  },
  {
   "cell_type": "markdown",
   "metadata": {},
   "source": [
    "Voila, the right weights can get us good results. We could potentially get as good as 95% with this network (according to the MNIST leaderboard, it requires some data augmentation and other tricks). Notice this particular data example is pretty close to a \"3\", and this is reflected in the softmaxed output (and corresponding \"confidence\" level)."
   ]
  },
  {
   "cell_type": "code",
   "execution_count": null,
   "metadata": {},
   "outputs": [],
   "source": []
  }
 ],
 "metadata": {
  "kernelspec": {
   "display_name": "Python 3",
   "language": "python",
   "name": "python3"
  },
  "language_info": {
   "codemirror_mode": {
    "name": "ipython",
    "version": 3
   },
   "file_extension": ".py",
   "mimetype": "text/x-python",
   "name": "python",
   "nbconvert_exporter": "python",
   "pygments_lexer": "ipython3",
   "version": "3.7.3"
  }
 },
 "nbformat": 4,
 "nbformat_minor": 2
}
