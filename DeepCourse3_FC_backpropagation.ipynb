{
 "cells": [
  {
   "cell_type": "code",
   "execution_count": 4,
   "metadata": {},
   "outputs": [],
   "source": [
    "import numpy as np\n",
    "from PIL import Image\n",
    "import matplotlib\n",
    "%matplotlib inline\n",
    "np.set_printoptions(precision=3, suppress=True)"
   ]
  },
  {
   "cell_type": "markdown",
   "metadata": {},
   "source": [
    "# Part 3: Finding the Parameters via Backpropagation\n",
    "In this notebook, we will walk through the full backpropagation algorithm in two ways, line-by-line and in an organized function. The complexity of keeping track of parameters, derivatives and gradients should demonstrate why we need nicely organized platforms. You will probably think of alternative ways of organizing as we go, if you think of something feel free to speak up and mention these for us all to discuss. It may help you choose a platform to use later on and it will help you develop methods for tracking internals."
   ]
  },
  {
   "cell_type": "code",
   "execution_count": 5,
   "metadata": {},
   "outputs": [],
   "source": [
    "# a few helper functions\n",
    "sigmoid = lambda x: 1.0/(1.0000000000001 + np.exp(-x))\n",
    "relu = lambda x: np.maximum(x, 0.0)\n",
    "softmax = lambda x: np.exp(x)/np.nansum(np.exp(x), axis=0)\n",
    "data = np.random.random((784,1))\n",
    "# derivative of the activation functions\n",
    "sigmoid_delta = lambda x, sigmoid: sigmoid(x)*(1-sigmoid(x))\n",
    "relu_delta = lambda x: np.maximum(x+0.0001, 0.0)/np.maximum(x, 0.0001)-0.0001"
   ]
  },
  {
   "cell_type": "markdown",
   "metadata": {},
   "source": [
    "Here's one way to abstract the layers/parameters for a neural network."
   ]
  },
  {
   "cell_type": "code",
   "execution_count": 6,
   "metadata": {},
   "outputs": [],
   "source": [
    "import collections\n",
    "def get_params(input_pixels=784, n_hidden=[512], output_classes=10, w_scale=0.01, b_scale=0.0, activations=None):\n",
    "    fc_sizes=[input_pixels]\n",
    "    fc_sizes.extend(n_hidden if type(n_hidden) == type(list()) else [n_hidden])\n",
    "    fc_sizes.append(output_classes)\n",
    "    '''\n",
    "    # How would you abstract your layers?\n",
    "    # One option, build a named collection with lists attached to each\n",
    "    params=collections.namedtuple('params',['weights','biases','activations'])\n",
    "    params.weights=[w_scale*np.random.randn(y, x) for x, y in zip(fc_sizes[:-1], fc_sizes[1:])]\n",
    "    params.biases=[b_scale*np.random.randn(y, 1) for y in fc_sizes[1:]]\n",
    "    params.activations = activations # if activations is not None else [[]]*(len(fc_sizes)-1)\n",
    "    '''\n",
    "    # Another option, layer-indexed params list\n",
    "    # benefit is each layer is an index into the params\n",
    "    params=[]\n",
    "    for i in range(len(fc_sizes)-1):\n",
    "        layer=collections.namedtuple('layer',['weight','bias','activation'])\n",
    "        layer.weights = w_scale * np.random.randn(fc_sizes[i+1], fc_sizes[i])\n",
    "        layer.bias  = b_scale * np.random.randn(fc_sizes[i+1], 1)\n",
    "        layer.activation = activations[i]\n",
    "        params.append(layer)\n",
    "    # Other methods could include a dict or collection of layers, where the input and outputs have specific names\n",
    "    # and each layer object includes the layers that feed into and take output from it (e.g. Caffe)\n",
    "    return params\n",
    "\n",
    "activation_fn=relu\n",
    "delta_activation_fn=relu_delta\n",
    "params = get_params(n_hidden=512, activations=[activation_fn, None])"
   ]
  },
  {
   "cell_type": "markdown",
   "metadata": {},
   "source": [
    "Make a forward() pass function that works with this new collections-based parameter structure. Test it on our data, passing the output through softmax before selecting the max index. For random parameters, recall we should expect the softmax \"probability\" to be 1/N classes = 0.1."
   ]
  },
  {
   "cell_type": "code",
   "execution_count": 8,
   "metadata": {},
   "outputs": [
    {
     "name": "stdout",
     "output_type": "stream",
     "text": [
      "Testing forward with layer-based param structure\n",
      "Maximum index:  2\n",
      "\"Probability\":  0.104\n"
     ]
    }
   ],
   "source": [
    "def forward(data, params, forward_only=True):\n",
    "    activations=[data]\n",
    "    features=[]\n",
    "    for layer in params:\n",
    "        features.append(np.dot(layer.weights, activations[-1]) + layer.bias)\n",
    "        activations.append(layer.activation(features[-1]) if layer.activation is not None else features[-1])\n",
    "    if forward_only:\n",
    "        return activations[-1]\n",
    "    else:\n",
    "        return activations,features\n",
    "    \n",
    "print('Testing forward with layer-based param structure')\n",
    "maxind = np.argmax(softmax(forward(data, params)), axis=0)[0]\n",
    "print('Maximum index: ', maxind)\n",
    "print('\"Probability\": ', np.around(softmax(forward(data, params))[maxind][0], decimals=3))"
   ]
  },
  {
   "cell_type": "markdown",
   "metadata": {},
   "source": [
    "# Brief aside on loss function\n",
    "The log-likelihood loss function. I've seen this called cross-entropy (posters, papers), some of the platforms call this \"softmax cross entropy\", which is close enough. \n",
    "\n",
    "True cross-entropy loss is difference between label and output distributions as used with sigmoid while log-likelihood is what it looks like with softmax, and softmax is useful for reporting \"probabilities\" (which they aren't really). Hence, we use softmax+log-likelihood loss for classification here."
   ]
  },
  {
   "cell_type": "code",
   "execution_count": 9,
   "metadata": {},
   "outputs": [],
   "source": [
    "# Cross-entropy loss function, log of the softmaxed output at the correct class.\n",
    "# Goal of training is to increase it (to 1.0) and decrease all others\n",
    "labels=np.asarray([[8]])\n",
    "ce_loss = lambda labels,output: -np.nansum(np.log(softmax(output))* one_hot(labels, output.shape[0]), axis=0)\n",
    "# turn a label into a one-hot vector (0's for non-label, 1 for the label)\n",
    "one_hot = lambda labels, n_classes: np.eye(n_classes)[np.array(labels).reshape(-1)].transpose()"
   ]
  },
  {
   "cell_type": "markdown",
   "metadata": {},
   "source": [
    "What might this softmax cross-entropy loss look like in a real training run?\n",
    "Recall softmax produces outputs that sum to 1.0, they look like probabilities from 0.0 to 1.0.\n",
    "Realistically, a random network with 10 classes will produce ten outputs about 1/10 = 0.10."
   ]
  },
  {
   "cell_type": "code",
   "execution_count": 10,
   "metadata": {},
   "outputs": [
    {
     "name": "stdout",
     "output_type": "stream",
     "text": [
      "Typical starting softmax cross-entropy loss (p = 0.1):  2.3025850929940455\n",
      "Decent ending softmax cross-entropy loss (p ~ 0.95 or so):  0.05129329438755058\n"
     ]
    },
    {
     "data": {
      "image/png": "[encoded data removed]",
      "text/plain": [
       "<Figure size 432x288 with 1 Axes>"
      ]
     },
     "metadata": {
      "needs_background": "light"
     },
     "output_type": "display_data"
    }
   ],
   "source": [
    "print('Typical starting softmax cross-entropy loss (p = 0.1): ', -np.log(0.1))\n",
    "print('Decent ending softmax cross-entropy loss (p ~ 0.95 or so): ', -np.log(0.95))\n",
    "plt.plot(-np.log(np.linspace(0.1,0.99,100)))\n",
    "plt.title('Softmax cross-entropy loss starting at chance, ending at confident 99% prediction')\n",
    "plt.show()"
   ]
  },
  {
   "cell_type": "markdown",
   "metadata": {},
   "source": [
    "Remember the loss is sensitive to two things with the _relative values_ outputted by the network: maximizing the correctly classed example and minimizing the others.\n",
    "Therefore, it is possible for accuracy and loss to not track each other perfectly. Accuracy\n",
    "can stop improving while loss continues to decrease, typically meaning the network is becoming more confident than we want.\n",
    "\n",
    "Another thing to be aware of is these aren't really confidences, and it would be trivial to re-map these relative values to a more meaningful (e.g. more useful) set of confidences in that they more match experience with real world data. \n",
    "Its a sort of illusion to consider these as confidences, they only relate to relative scaling. The amount of confidence scaling applied with softmax can be manipulated with the \"temperature\" parameter. See online for examples.\n",
    "Also note with softmax cross-entropy, due to the softmax, the loss can continue to decrease while accuracy remains constant because the top-returned class can continue being correct at the same rate while the network learns to become less equivocal overly-certain in its output. A reduction in this kind of loss without an increase in accuracy may mean the network is becoming more brittle"
   ]
  },
  {
   "cell_type": "code",
   "execution_count": null,
   "metadata": {},
   "outputs": [],
   "source": [
    "# Regression loss, L2 and L1\n",
    "l2_loss = lambda labels,output: -0.5*np.nanmean(np.power(output - labels, 2.0))\n",
    "l1_loss = lambda labels,output: -np.nanmean(np.abs(output - labels))\n",
    "# because we nearly always consider loss as a scalar, typically we take the mean above\n",
    "# however, gradient functions need to remain un-summed\n",
    "l2_loss_delta = lambda labels,output: -(output - labels)\n",
    "l1_loss_delta = lambda labels,output: -np.where(output>labels, \\\n",
    "                                         np.ones((len(labels),)), -np.ones((len(labels),)))\n",
    "# random data with and without outliers\n",
    "y = np.arange(100)\n",
    "loss_data = 5*np.random.random((100,))+y\n",
    "loss_data_outliers = np.copy(loss_data)\n",
    "inds=[4,8,15]\n",
    "loss_data_outliers[inds] = 100\n",
    "print('L1 Losses on clean, corrrupted data: ',[l1_loss(loss_data, y), \\\n",
    "                                               l1_loss(loss_data_outliers, y)])\n",
    "print('L2 Losses on clean, corrrupted data: ',[l2_loss(loss_data, y), \\\n",
    "                                               l2_loss(loss_data_outliers, y)])\n",
    "y = y.astype(np.float)\n",
    "# cross-entropy loss formulated for use in regression\n",
    "ce_regression_loss = lambda labels, output: -np.nansum(labels * \\\n",
    "                      np.log(sigmoid(output)) + (1 - labels) * np.log(1 - sigmoid(output)))\n",
    "print('CE Losses on clean, corrrupted data: ' \\\n",
    "      ,[ce_regression_loss(loss_data/100.0, y/100.0), \\\n",
    "        ce_regression_loss(loss_data_outliers/100.0, y/100.0)])"
   ]
  },
  {
   "cell_type": "markdown",
   "metadata": {},
   "source": [
    "# Backpropagation for FC neurons\n",
    "\n",
    "To recap, we're working on a network with two layers: $ w1 = [512, 784], b1 = [512,1], w2 = [10,512], b2 = [10,1] $\n",
    "\n",
    "First (hidden) layer feature map: $$ z^1_j = (w^1_{ij} . x_i) + b^1_j $$\n",
    "\n",
    "activation of hidden layer map: $$ a^1_j = g(z^1_j) $$\n",
    "\n",
    "Second (output) layer map: $$ z^2_k = (w^2_{jk} . a^1_j) + b^2_k $$\n",
    "\n",
    "Final output after softmax: $$ S_k = \\frac{exp(z^2_k)}{sum_k(exp(z^2_k))}\n",
    "                    = \\frac{exp([w^2_{jk} * g((w^1_{ij} * x_i) + b_j)] +b^2_k)}{sum_k(exp([w^2_{jk} * g((w_{ij} * x_i) + b_j)] +b^2_k))} $$\n",
    "\n",
    "Loss is $ -log(S_i) $ and is a scalar, where $i==label$\n",
    "\n",
    "At each layer we'll be computing and back-propagating $\\frac{dL}{dz_{in}}$, where L=loss, $z_{in}$ is the feature map from the previous layer into the layer of interest. Then we'll be using the layer gradient to compute the weights gradient for the weights parameters, as $\\frac{dL}{dw_{i}}$."
   ]
  },
  {
   "cell_type": "markdown",
   "metadata": {},
   "source": [
    "## Breaking down into components\n",
    "\n",
    "The gradient of the softmax loss w.r.t. activation coming from penultimate layer\n",
    "  $$ \\frac{dL}{dz} = \\frac{dL}{dS} * \\frac{dS}{da} * \\frac{da}{dz} $$\n",
    "\n",
    "Gradient w.r.t. weight (S=softmaxed output, a=feature output at layer i, W=weight at layer i):\n",
    "  $$ \\frac{dL}{dw_i} = \\frac{dL}{dS} * \\frac{dS}{da} * \\frac{da}{dz} * \\frac{dz}{dw}$$\n",
    "\n",
    "Gradient w.r.t. bias (b_i is bias at layer i):\n",
    "  $$ \\frac{dL}{db_i} = \\frac{dL}{dS} * \\frac{dS}{da} * \\frac{da}{dz} * \\frac{dz}{db} $$\n",
    "\n",
    "Breaking down the dz for weights and biases gives us:\n",
    "  $$\\frac{dz}{dw} = \\frac{d(w * activation_{i-1} + bias}{dw} = activation_{i-1} $$\n",
    "\n",
    "  $$\\frac{dz}{db} = \\frac{d(w * activation_{i-1} + bias)}{dbias} = 1 $$\n",
    "\n",
    "Breaking down the dL for softmax gives:\n",
    "$$\\frac{dL}{dS} = \\frac{d(-log(S_i))}{dS} = -\\frac{1}{S_i} $$\n",
    "\n",
    "## Softmax derivative\n",
    "The softmax derivative has two cases: $y==i$ and $y!=i$\n",
    "\n",
    "$$ \\frac{dS}{da} = S_k - S_k*S_i (k==i) and -S_k*S_i (k!=i)$$\n",
    "$$ \\frac{dS}{da} = S_i - S_i*S_i (k==i) and -S_k*S_i (k!=i)$$\n",
    "$$ \\frac{dS}{da} = S_i*onehot(label) - S_k*S_i$$\n",
    "\n",
    "where $S_k$ is the full softmaxed output vector and $S_i$ is (a scalar) made up of $S_k$ indexed at the label index. We can combine $\\frac{dS}{da}$ and $\\frac{dL}{dS}$ as softmax - onehot(label).\n",
    "\n",
    "## Weight decay\n",
    "We will also have an additional term in loss for weight decay (for every weight parameter): $$ L_{reg} = wd*0.5*sum(w^2) $$\n",
    "\n",
    "This second term will be added for each layer's weights gradient term: $$ \\frac{dL_{reg}}{dw} = wd*w $$"
   ]
  },
  {
   "cell_type": "code",
   "execution_count": null,
   "metadata": {},
   "outputs": [],
   "source": [
    "ce_softmax_delta = lambda labels,output: output - one_hot(labels, output.shape[0])\n"
   ]
  },
  {
   "cell_type": "markdown",
   "metadata": {},
   "source": [
    "To summarize, we can write dL/dw at the second layer more simply:\n",
    "\n",
    "$$\\frac{dL}{dw} = - \\frac{1}{S_i} * (S_i*one\\_hot(label) - S_k*S_i) * (input\\_activation) + wd*w $$\n",
    "$$ = (S_k - one\\_hot(label)) * (input\\_activation) + wd*w$$\n",
    "\n",
    "Next, back-propagate the second layer's gradient to the first layer. Once we have that, we will have everything we need to implement backpropagation for this network.\n",
    "\n",
    "If we have the gradient at the second layer, we can simply reverse the forward operation and use the second layer's weights (transposed) to back-compute the gradient at the first layer. Note, this isn't quite the first layer gradient, because there was an activation layer between them, so we also have to partial in the activation gradient.\n",
    "\n",
    "$$dlayer_i = w^T_{i+1} * dlayer_{i+1} * \\frac{da_i}{dz_i}$$\n",
    "\n",
    "## Compute gradients\n",
    "Finally, we can run a forward pass and get the activations and features for both layers to prepare for gradient computation."
   ]
  },
  {
   "cell_type": "code",
   "execution_count": null,
   "metadata": {},
   "outputs": [],
   "source": [
    "activations,features = forward(data, params, forward_only=False)\n",
    "softmax_outputs = softmax(activations[-1])\n",
    "loss = ce_loss(labels, activations[-1])\n",
    "print('Single forward pass loss on initialized network: ',loss)"
   ]
  },
  {
   "cell_type": "markdown",
   "metadata": {},
   "source": [
    "Compute the gradient for the last layer and the parameters associated with it. Notice we don't apply an activation derivative, because the only function applied to the last layer (softmax) has already been accounted for in the ce_softmax_delta() function. Also notice when computing the weights gradient from the layer gradient, the activation that flowed into this layer must be transposed."
   ]
  },
  {
   "cell_type": "code",
   "execution_count": null,
   "metadata": {},
   "outputs": [],
   "source": [
    "grad_last_layer = ce_softmax_delta(labels, softmax_outputs)\n",
    "\n",
    "# assign bias grad\n",
    "grad_last_biases = grad_last_layer\n",
    "grad_last_weights = np.dot(grad_last_layer, activations[-2].transpose())\n",
    "# check shape, must match the weights shape\n",
    "assert grad_last_weights.shape == params[-1].weights.shape, 'gradient and weights shapes do not match'"
   ]
  },
  {
   "cell_type": "markdown",
   "metadata": {},
   "source": [
    "Get the weight-decay term and sum into the weights gradient. Use an appropriately small weight-decay hyperparameter (0.0005 is common)."
   ]
  },
  {
   "cell_type": "code",
   "execution_count": null,
   "metadata": {},
   "outputs": [],
   "source": [
    "wd=0.0005\n",
    "l2_last_weights = wd * params[-1].weights\n",
    "grad_last_weights += l2_last_weights\n",
    "print('Backprop, grad_last_layer shape: ',grad_last_layer.shape)"
   ]
  },
  {
   "cell_type": "markdown",
   "metadata": {},
   "source": [
    "Error propagation/backpropagate to the gradient for the next layer back.\n",
    " $$\\frac{dz_{out}}{dz_{in}} = \\frac{dz_{out}}{da_{in}} * \\frac{da_{in}}{dz_{in}} $$ \n",
    "\n",
    "Or, np.dot(next layer's weights, grad_last_layer above) * $\\frac{da_{in}}{dz_{in}}$.\n",
    "\n",
    "The gradient at a layer back is equal to the gradient at the next layer, backwardly multiplied by the next layer's weights times any partial derivative for anything happening between this layer and the next (e.g. any derivative due to the activation layer and as in the above case, the current layer's input activation). Recall the dot product used forward direction takes the input channels and transforms by inner product sum to get the output channels, so taking the dot of the transpose takes the gradient in the form of the layer's output channels and gets us back to the input channel dimension."
   ]
  },
  {
   "cell_type": "code",
   "execution_count": null,
   "metadata": {},
   "outputs": [],
   "source": [
    "grad_first_layer = np.dot(params[-1].weights.transpose(), grad_last_layer) * relu_delta(features[-2])"
   ]
  },
  {
   "cell_type": "markdown",
   "metadata": {},
   "source": [
    "Thus to keep pushing back further, to get the gradient at the previous layer, we first multiply the transpose of the current layer's weights by the current layer's gradient to get the gradient at the activation layer between the previous and current layers. Then multiply by the activation layer gradient to get the gradient at said layer."
   ]
  },
  {
   "cell_type": "code",
   "execution_count": null,
   "metadata": {},
   "outputs": [],
   "source": [
    "grad_first_biases = grad_first_layer\n",
    "grad_first_weights = np.dot(grad_first_layer, activations[-3].transpose())\n",
    "assert grad_first_weights.shape == params[0].weights.shape, 'gradient and weights shapes do not match'\n",
    "\n",
    "# again get the weight-decay term (assuming we're using weight decay)\n",
    "l2_first_weights = wd * params[0].weights\n",
    "grad_first_weights += l2_first_weights\n",
    "print('Backprop, grad_first_layer shape: ',grad_first_layer.shape)"
   ]
  },
  {
   "cell_type": "markdown",
   "metadata": {},
   "source": [
    "# A few takeaways\n",
    "Small activations result in small gradients, and small weights in the next layer will result in small backprop gradients. \n",
    "\n",
    "Large activations can blow up if nothing is done to prevent them (e.g. weights regularization, gradient clamping).\n",
    "\n",
    "When using a clamping activation like relu, if something isn't activated the gradients will also be clamped. \n",
    "\n",
    "With most of the other nonlinear activations (e.g. sigmoid, tanh) that squish output nonlinearly, the derivative is very small for either large or small feature values, a condition commonly described as a \"saturated\" neuron. ReLU solves one end of this, leaky relu or prelu or selu were motivated to solve this issue.\n",
    "\n",
    "  grad_at_some_layer = np.recursive_dot( (next_layer_weights.T, next_layer_grads) * delta_activation(previous_layer_forward_output) )\n",
    "\n",
    "  grad_at_some_layer_weights = np.dot(grad_at_some_layer, activations_into_this_layer.T)\n",
    "\n",
    "This means that the backpropagated gradients grow geometrically in dependence on the subsequent weights and changes in activation as you move back. \n",
    "\n",
    "Next look at the gradient at the output we started with, cross-entropy vs L2\n",
    "\n",
    "  ce_grad_last_layer = (softmax(outputs) - one_hot(labels, outputs.shape[0]))\n",
    "\n",
    "  l2_grad_last_layer = (outputs - labels) * sigmoid_delta()\n",
    "\n",
    "Unfortunately, the sigmoid_delta can become 0 or 1 easily, and at that point, sigmoid_delta(close to 0 or close to 1) = 0, and the output gradient we want to start with becomes zero easily. Softmax cross-entropy does not have this issue. We can avoid this by avoiding a sigmoid on the output, but this results in an unconstrained output (can be handled in other ways)\n",
    "\n",
    "# Backpropagation functionalized"
   ]
  },
  {
   "cell_type": "code",
   "execution_count": null,
   "metadata": {},
   "outputs": [],
   "source": [
    "def forward_hybrid_onesample(data, label, params, loss_fn, loss_fn_delta, activation, activation_delta, wd=0.0005):\n",
    "    # activations (input to the next layer, equal to feature when no activation used)\n",
    "    a_l = [data]\n",
    "    # feature maps\n",
    "    f_l = []\n",
    "    delta_a_l = []\n",
    "    # compute the forward calculations and store the features and activations and the derivative of the parameters at these values\n",
    "    for layer in params:\n",
    "        # append feature and activation outputs\n",
    "        f_l.append(np.dot(layer.weights, a_l[-1]) + layer.bias)\n",
    "        # calc activation if specified, else just the raw feature map\n",
    "        a_l.append(layer.activation(f_l[-1]) if layer.activation is not None else f_l[-1])\n",
    "        # same for gradient, else just ones\n",
    "        delta_a_l.append(activation_delta(f_l[-1]) if layer.activation is not None else f_l[-1]/f_l[-1])\n",
    "\n",
    "    loss = loss_fn(label, a_l[-1])\n",
    "    # gradient at the loss\n",
    "    layerback = 1\n",
    "    # gradient at the last layer is the cost gradient times the derivative of the last activation layer\n",
    "    # in our toy network, we did no activation on last layer...\n",
    "    gradient_layer = loss_fn_delta(label, a_l[-1]) * delta_a_l[-1]\n",
    "    # gradients (in reverse order)\n",
    "    grad_w_reverse=[]\n",
    "    grad_b_reverse=[]\n",
    "    # store the gradients, bias is simply the gradient we compute above at this layer\n",
    "    grad_b_reverse.append(gradient_layer)\n",
    "    # weights gradient is this layer's gradient dotted with the previous layer's activation output (e.g. what this layer saw as input)\n",
    "    grad_w_reverse.append(np.dot(gradient_layer, a_l[-2].transpose()) + wd * params[-1].weights)\n",
    "\n",
    "    # backward further, subsequent layers depend on the following layer's activation_delta\n",
    "    N_layers = len(params)\n",
    "    for layerback in range(1, N_layers):\n",
    "        current_layer=N_layers - layerback\n",
    "        previous_layer=current_layer - 1\n",
    "        gradient_layer = np.dot(params[current_layer].weights.transpose(), gradient_layer) * delta_a_l[previous_layer]\n",
    "        # backpropagation: gradient at a given layer is equal to the next layer's weights dotted with the next layer's gradient\n",
    "        # then the bias' gradient is said gradient, and weights' gradient is said gradient dotted with the activations that were inputted to this layer\n",
    "        grad_b_reverse.append(gradient_layer)\n",
    "        grad_w_reverse.append(np.dot(gradient_layer, a_l[previous_layer].transpose()) + wd * params[previous_layer].weights)\n",
    "    return (grad_w_reverse, grad_b_reverse, loss, a_l[-1])"
   ]
  },
  {
   "cell_type": "code",
   "execution_count": null,
   "metadata": {},
   "outputs": [],
   "source": [
    "# get params for a one-hidden layer network with 64 units\n",
    "activation_fn=relu\n",
    "delta_activation_fn=relu_delta\n",
    "params = get_params(n_hidden=[64], activations=[activation_fn, None])\n",
    "# grab gradients for a single made-up example\n",
    "gradw_r,gradb_r,loss,output = forward_hybrid_onesample(data, labels, params, ce_loss, ce_softmax_delta, activation_fn, delta_activation_fn)\n",
    "print('Single pass thru initialized network, loss = ',loss)"
   ]
  },
  {
   "cell_type": "markdown",
   "metadata": {},
   "source": [
    "About what we'd expect, the loss when all outputs are at chance should be log(0.1).\n",
    "\n",
    "# Check gradients numerically\n",
    "Modern platforms include things like auto-differentiation and numeric checks in their CI/automated tests, so you may only need to do this if you make new layers or check a new loss function for stability. The result should be on the order of the epsilon used (0.0001 here)."
   ]
  },
  {
   "cell_type": "code",
   "execution_count": null,
   "metadata": {},
   "outputs": [],
   "source": [
    "import copy\n",
    "eps=0.0001\n",
    "dgwp=[]\n",
    "dgbp=[]\n",
    "for i in range(784):\n",
    "    datap=copy.deepcopy(data)\n",
    "    datan=copy.deepcopy(data)\n",
    "    datap[i] += eps\n",
    "    datan[i] -= eps\n",
    "    gwp,gbp,lp,op =  forward_hybrid_onesample(datap, labels, params, ce_loss, ce_softmax_delta, relu, relu_delta)\n",
    "    gwn,gbn,ln,on =  forward_hybrid_onesample(datan, labels, params, ce_loss, ce_softmax_delta, relu, relu_delta)\n",
    "    dgwp.append(sum([np.nansum(p-n) for p,n in zip(gwp,gwn)])/(2*eps*sum([np.prod(p.shape) for p in gwp])))\n",
    "    dgbp.append(sum([np.nansum(p-n) for p,n in zip(gbp,gbn)])/(2*eps*sum([np.prod(p.shape) for p in gbp])))\n",
    "dgwp=np.asarray(dgwp)\n",
    "dgbp=np.asarray(dgbp)\n",
    "print([np.prod(p.shape) for p in gbp])\n",
    "print([np.prod(p.shape) for p in gwp])\n",
    "plt.plot(dgbp)\n",
    "plt.title('bias gradient numeric check')\n",
    "plt.show()\n",
    "plt.plot(dgwp)\n",
    "plt.title('weights gradient numeric check')\n",
    "plt.show()\n",
    "print('min, max, mean weights delta',[np.min(dgwp), np.max(dgwp), np.nanstd(dgwp)])\n",
    "print('min, max, mean biases delta',[np.min(dgbp), np.max(dgbp), np.nanstd(dgbp)])"
   ]
  },
  {
   "cell_type": "markdown",
   "metadata": {},
   "source": [
    "# Data loader for MNIST\n",
    "Dead-simple, no bells and whistles beyond shuffling (randomizing the order of data samples). "
   ]
  },
  {
   "cell_type": "code",
   "execution_count": null,
   "metadata": {},
   "outputs": [],
   "source": [
    "import gzip\n",
    "import struct\n",
    "datasets=['data/train-labels-idx1-ubyte.gz', 'data/train-images-idx3-ubyte.gz']\n",
    "with gzip.open(datasets[0], 'rb') as fp:\n",
    "    # labels\n",
    "    magic=struct.unpack(\">L\", fp.read(size=4))[0]\n",
    "    assert magic == 2049, 'magic number in header does not match expectations'\n",
    "    num_items=struct.unpack(\">L\", fp.read(size=4))[0]\n",
    "    mnist_labels=np.asarray(list(fp.read()))\n",
    "\n",
    "with gzip.open(datasets[1], 'rb') as fp:\n",
    "    magic=struct.unpack(\">L\", fp.read(size=4))[0]\n",
    "    assert magic == 2051, 'magic number in header does not match expectations'\n",
    "    num_imgs=struct.unpack(\">L\", fp.read(size=4))[0]\n",
    "    num_rows=struct.unpack(\">L\", fp.read(size=4))[0]\n",
    "    num_cols=struct.unpack(\">L\", fp.read(size=4))[0]\n",
    "    data=np.asarray(list(fp.read()))\n",
    "    mnist_data=data.reshape((num_imgs, 28, 28, 1))\n",
    "    \n",
    "# randomize index and get data loader\n",
    "index=np.arange(num_items)\n",
    "np.random.shuffle(index)\n",
    "data_loader = zip([d for d in mnist_data[index,:,:,:]], [l for l in mnist_labels[index]])\n",
    "# not really a normalization just a rescaling to 0-1\n",
    "normalize_image = lambda img: (img-np.nanmin(img))/(np.nanmax(img)-np.nanmin(img)) if np.nanmax(img) > 0.0 else img\n",
    "print('created one-time use simple data_loader with n_images = ', num_imgs)"
   ]
  },
  {
   "cell_type": "markdown",
   "metadata": {},
   "source": [
    "# Training loop\n",
    "Make a training loop and update the parameters with stochastic gradient descent. Display the first 5 data examples as images and "
   ]
  },
  {
   "cell_type": "code",
   "execution_count": null,
   "metadata": {},
   "outputs": [],
   "source": [
    "batch_size=64\n",
    "batch_index=0\n",
    "wgrads_mov_avg=None\n",
    "# SGD with momentum\n",
    "update_mov_avg = lambda grads, batch_size, grads_mov_avg, momentum: [momentum * m + (1-momentum)*g/batch_size for g,m in zip(grads, grads_mov_avg)]\n",
    "loss_mov_avg = 0.0\n",
    "lr=0.1\n",
    "acc=[]\n",
    "grad_w_r_acc=None\n",
    "params_copy = copy.deepcopy(params)\n",
    "momentum=0.9\n",
    "for batchnum,batch in enumerate(data_loader):\n",
    "    img,lbl= batch\n",
    "    img=img.reshape((784,1)).astype(np.float32)\n",
    "    nimg=normalize_image(img)\n",
    "    gradw_r,gradb_r,loss,output = forward_hybrid_onesample(nimg, lbl, params_copy, ce_loss, ce_softmax_delta, activation_fn, delta_activation_fn)\n",
    "    loss_mov_avg += loss\n",
    "    maxind = np.argmax(softmax(output), axis=0)[0]\n",
    "    acc.append(maxind==lbl)\n",
    "    # initialize the batch gradient accumulator, will be re-set after each batch_size\n",
    "    if grad_w_r_acc is None:\n",
    "        gradw_r_acc = gradw_r\n",
    "        gradb_r_acc = gradb_r\n",
    "    else:\n",
    "        gradw_r_acc = [g1+g2 for g1,g2 in zip(gradw_r_acc, gradw_r)]\n",
    "        gradb_r_acc = [g1+g2 for g1,g2 in zip(gradb_r_acc, gradb_r)]\n",
    "    batch_index +=1\n",
    "    if batch_index==batch_size:\n",
    "        # accumulate a batch into the gradient tracker (SGD)\n",
    "        # recall the accumulator must be divided by batch_size as it is simply a sum over the batch\n",
    "        if wgrads_mov_avg is None:\n",
    "            wgrads_mov_avg = [w/batch_size for w in gradw_r_acc]\n",
    "            bgrads_mov_avg = [b/batch_size for b in gradb_r_acc]\n",
    "        else:\n",
    "            wgrads_mov_avg = update_mov_avg(gradw_r_acc, batch_size, wgrads_mov_avg, momentum)\n",
    "            bgrads_mov_avg = update_mov_avg(gradb_r_acc, batch_size, bgrads_mov_avg, momentum)\n",
    "        # Update parameters with SGD (learning_rate times the momentum-moving-averaged gradient)\n",
    "        for j in range(len(params_copy)):\n",
    "            params_copy[j].weights -= lr*wgrads_mov_avg[-j-1]\n",
    "            params_copy[j].bias    -= lr*bgrads_mov_avg[-j-1]\n",
    "        # reset the batch gradient accumulator\n",
    "        gradw_r_acc=None\n",
    "        batch_index = 0\n",
    "    if batchnum % (batch_size*100) == 1:\n",
    "        print('Batch %d, Loss avg: %.02f, acc: %.2f'%(int(batchnum/batch_size), loss_mov_avg/batchnum, sum(acc)/len(acc)))\n",
    "        if batchnum>batch_size*400:\n",
    "            break\n",
    "    # inspect the first few\n",
    "    if batchnum>=5:\n",
    "        continue\n",
    "    print('output: ', output)\n",
    "    plt.imshow(img.reshape((28,28)))\n",
    "    plt.title(lbl)\n",
    "    plt.show()\n",
    "print('Ran one Epoch')\n",
    "\n",
    "# save parameters to a dill file\n",
    "import dill\n",
    "with open('nnet_params_oneepoch.dill','wb') as fp:\n",
    "    listparams=[[p.weights,p.bias] for p in params_copy]\n",
    "    dill.dump(listparams, fp)"
   ]
  },
  {
   "cell_type": "markdown",
   "metadata": {},
   "source": [
    "# Train multiple epochs\n",
    "\n",
    "Perform N epochs of training, re-shuffling training data each time. You should see the loss gradually decrease and accuracy increase from a baseline of 0.1. Note if a moving average for some value (e.g. loss) gets reset on each epoch, you'll see it increase for the first batch, which you can ignore for now. How would you improve that?\n",
    "\n",
    "Many hyperparameters you can play with, from learning rate schedules, batch sizes, early stopping, weight decay and so forth."
   ]
  },
  {
   "cell_type": "code",
   "execution_count": null,
   "metadata": {},
   "outputs": [],
   "source": [
    "epochs=20\n",
    "reduction_epochs=[10, 15, 18]\n",
    "#activation_fn=sigmoid\n",
    "#delta_activation_fn=sigmoid_delta\n",
    "#params = get_params(n_hidden=[512, 256], activations=[activation_fn, activation_fn, None])\n",
    "params = get_params(n_hidden=[64], activations=[activation_fn, None])\n",
    "# accuracy accumulator\n",
    "acc_acc = []\n",
    "grad_w_r_acc=None\n",
    "wgrads_mov_avg=None\n",
    "for epoch in range(epochs):\n",
    "  if epoch in reduction_epochs:\n",
    "      lr=lr/1.5\n",
    "  batch_index=0\n",
    "  acc=[]\n",
    "  loss_mov_avg = 0.0\n",
    "  # randomize index and get data loader\n",
    "  index=np.arange(num_items)\n",
    "  np.random.shuffle(index)\n",
    "  data_loader = zip([d for d in mnist_data[index,:,:,:]], [l for l in mnist_labels[index]])\n",
    "  grad_w_r_acc=None\n",
    "  wgrads_mov_avg=None\n",
    "  # main training loop\n",
    "  for batchnum,batch in enumerate(data_loader):\n",
    "    img,lbl= batch\n",
    "    img=img.reshape((784,1)).astype(np.float32)\n",
    "    nimg=normalize_image(img)\n",
    "    randnoise=np.random.randn(784).reshape((784,1))*0.025\n",
    "    nimg=nimg+randnoise\n",
    "    # what would happen if we modified the image here before passing to forward, how would that affect the network's ability to learn?\n",
    "    # try adding some random noise...\n",
    "    gradw_r,gradb_r,loss,output = forward_hybrid_onesample(nimg, lbl, params, ce_loss, ce_softmax_delta, activation_fn, delta_activation_fn)\n",
    "    loss_mov_avg += loss\n",
    "    maxind = np.argmax(softmax(output), axis=0)[0]\n",
    "    maxind = np.argmax(softmax(output), axis=0)[0]\n",
    "    acc.append(maxind==lbl)\n",
    "    # initialize the gradient accumulators\n",
    "    if grad_w_r_acc is None:\n",
    "        gradw_r_acc = gradw_r\n",
    "        gradb_r_acc = gradb_r\n",
    "    else:\n",
    "        gradw_r_acc = [g1+g2 for g1,g2 in zip(gradw_r_acc, gradw_r)]\n",
    "        gradb_r_acc = [g1+g2 for g1,g2 in zip(gradb_r_acc, gradb_r)]\n",
    "    batch_index +=1\n",
    "    if batch_index==batch_size:\n",
    "        # initialize the moving-average gradient tracker for SGD\n",
    "        # recall, accumulator needs to be divided by batch_size so be careful using it blindly\n",
    "        if wgrads_mov_avg is None:\n",
    "            wgrads_mov_avg = [w/batch_size for w in gradw_r_acc]\n",
    "            bgrads_mov_avg = [b/batch_size for b in gradb_r_acc]\n",
    "        else:\n",
    "            wgrads_mov_avg = update_mov_avg(gradw_r_acc, batch_size, wgrads_mov_avg, momentum)\n",
    "            bgrads_mov_avg = update_mov_avg(gradb_r_acc, batch_size, bgrads_mov_avg, momentum)\n",
    "        for j in range(len(params)):\n",
    "            params[j].weights -= lr*wgrads_mov_avg[-j-1]\n",
    "            params[j].bias    -= lr*bgrads_mov_avg[-j-1]\n",
    "        gradw_r_acc=None\n",
    "        batch_index = 0\n",
    "    if batchnum % (batch_size*100) == 1:\n",
    "        print(' Batch %d, Loss avg: %.02f, acc: %.2f'%(int(batchnum/batch_size), loss_mov_avg/batchnum, sum(acc)/len(acc)))\n",
    "    # Note, we'll miss the last partial batch - can you think of a simple way to make use of these last images?\n",
    "    # many ways to do it, see if you can do it in as little as two lines moved above\n",
    "\n",
    "  acc_acc.append(sum(acc)/len(acc))\n",
    "  print('Epoch %d, Loss avg: %.02f, acc: %.2f'%(epoch, loss_mov_avg/batchnum, acc_acc[-1]))\n",
    "\n",
    "import dill\n",
    "with open('nnet_params.dill','wb') as fp:\n",
    "    listparams=[[p.weights,p.bias] for p in params]\n",
    "    dill.dump(listparams, fp)"
   ]
  },
  {
   "cell_type": "code",
   "execution_count": null,
   "metadata": {},
   "outputs": [],
   "source": []
  }
 ],
 "metadata": {
  "kernelspec": {
   "display_name": "Python 3",
   "language": "python",
   "name": "python3"
  },
  "language_info": {
   "codemirror_mode": {
    "name": "ipython",
    "version": 3
   },
   "file_extension": ".py",
   "mimetype": "text/x-python",
   "name": "python",
   "nbconvert_exporter": "python",
   "pygments_lexer": "ipython3",
   "version": "3.7.3"
  }
 },
 "nbformat": 4,
 "nbformat_minor": 2
}
